{
 "cells": [
  {
   "cell_type": "code",
   "execution_count": 1,
   "id": "a4f78b46",
   "metadata": {},
   "outputs": [
    {
     "name": "stdout",
     "output_type": "stream",
     "text": [
      "4 1 2 6 3\n",
      "5\n"
     ]
    }
   ],
   "source": [
    "def stock(nums):\n",
    "    n=len(nums)\n",
    "    min_profit=nums[0]\n",
    "    max_profit=0\n",
    "    for i in nums:\n",
    "        if i<min_profit:\n",
    "            min_profit=i\n",
    "        else:\n",
    "            max_profit=max(max_profit,i-min_profit)\n",
    "    return max_profit\n",
    "nums=list(map(int,input().split()))\n",
    "res=stock(nums)\n",
    "print(res)"
   ]
  },
  {
   "cell_type": "code",
   "execution_count": null,
   "id": "09b663ee",
   "metadata": {},
   "outputs": [],
   "source": []
  }
 ],
 "metadata": {
  "kernelspec": {
   "display_name": "Python 3 (ipykernel)",
   "language": "python",
   "name": "python3"
  },
  "language_info": {
   "codemirror_mode": {
    "name": "ipython",
    "version": 3
   },
   "file_extension": ".py",
   "mimetype": "text/x-python",
   "name": "python",
   "nbconvert_exporter": "python",
   "pygments_lexer": "ipython3",
   "version": "3.9.7"
  }
 },
 "nbformat": 4,
 "nbformat_minor": 5
}
