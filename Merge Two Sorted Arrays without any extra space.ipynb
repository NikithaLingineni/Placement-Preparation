{
 "cells": [
  {
   "cell_type": "code",
   "execution_count": 1,
   "id": "09c7479a",
   "metadata": {},
   "outputs": [
    {
     "name": "stdout",
     "output_type": "stream",
     "text": [
      "1 4 8 10\n",
      "2 3 9\n",
      "[1, 2, 3, 4] [8, 9, 10]\n"
     ]
    }
   ],
   "source": [
    "def merge(nums1,nums2):\n",
    "    n=len(nums1)\n",
    "    m=len(nums2)\n",
    "    l=n-1\n",
    "    r=0\n",
    "    while l>=0 and r<=m:\n",
    "        if nums1[l]>nums2[r]:\n",
    "            nums1[l],nums2[r]=nums2[r],nums1[l]\n",
    "            l-=1\n",
    "            r+=1\n",
    "        else:\n",
    "            break\n",
    "    nums1.sort()\n",
    "    nums2.sort()\n",
    "nums1=list(map(int,input().split())) \n",
    "nums2=list(map(int,input().split()))\n",
    "merge(nums1,nums2)\n",
    "print(nums1,nums2)"
   ]
  },
  {
   "cell_type": "code",
   "execution_count": null,
   "id": "0867ee07",
   "metadata": {},
   "outputs": [],
   "source": []
  }
 ],
 "metadata": {
  "kernelspec": {
   "display_name": "Python 3 (ipykernel)",
   "language": "python",
   "name": "python3"
  },
  "language_info": {
   "codemirror_mode": {
    "name": "ipython",
    "version": 3
   },
   "file_extension": ".py",
   "mimetype": "text/x-python",
   "name": "python",
   "nbconvert_exporter": "python",
   "pygments_lexer": "ipython3",
   "version": "3.9.7"
  }
 },
 "nbformat": 4,
 "nbformat_minor": 5
}
