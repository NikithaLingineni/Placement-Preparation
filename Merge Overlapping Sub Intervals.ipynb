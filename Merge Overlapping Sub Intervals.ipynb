{
 "cells": [
  {
   "cell_type": "code",
   "execution_count": 1,
   "id": "dd6ea256",
   "metadata": {},
   "outputs": [
    {
     "name": "stdout",
     "output_type": "stream",
     "text": [
      "4\n",
      "2\n",
      "1\n",
      "3\n",
      "2\n",
      "6\n",
      "8\n",
      "10\n",
      "15\n",
      "18\n",
      "[[1, 6], [8, 10], [15, 18]]\n"
     ]
    }
   ],
   "source": [
    "def merge(intervals):\n",
    "    intervals=sorted(intervals,key=lambda x:x[0])\n",
    "    ans=[]\n",
    "    for interval in intervals:\n",
    "        if not ans or ans[-1][1]<interval[0]:\n",
    "            ans.append(interval)\n",
    "        else:\n",
    "            ans[-1][1]=max(ans[-1][1],interval[1])\n",
    "    return ans\n",
    "r=int(input())\n",
    "c=int(input())\n",
    "intervals=[]\n",
    "for i in range(r):\n",
    "    ro=[]\n",
    "    for j in range(c):\n",
    "        ro.append(int(input()))\n",
    "    intervals.append(ro)\n",
    "res=merge(intervals)\n",
    "print(res)"
   ]
  },
  {
   "cell_type": "code",
   "execution_count": null,
   "id": "402143b8",
   "metadata": {},
   "outputs": [],
   "source": []
  }
 ],
 "metadata": {
  "kernelspec": {
   "display_name": "Python 3 (ipykernel)",
   "language": "python",
   "name": "python3"
  },
  "language_info": {
   "codemirror_mode": {
    "name": "ipython",
    "version": 3
   },
   "file_extension": ".py",
   "mimetype": "text/x-python",
   "name": "python",
   "nbconvert_exporter": "python",
   "pygments_lexer": "ipython3",
   "version": "3.9.7"
  }
 },
 "nbformat": 4,
 "nbformat_minor": 5
}
