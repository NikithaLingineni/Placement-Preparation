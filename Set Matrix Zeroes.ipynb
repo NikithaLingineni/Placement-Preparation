{
 "cells": [
  {
   "cell_type": "code",
   "execution_count": 2,
   "id": "24ab56df",
   "metadata": {},
   "outputs": [
    {
     "name": "stdout",
     "output_type": "stream",
     "text": [
      "3\n",
      "3\n",
      "1\n",
      "0\n",
      "1\n",
      "1\n",
      "1\n",
      "1\n",
      "1\n",
      "2\n",
      "1\n",
      "[[0, 0, 0], [1, 0, 1], [1, 0, 1]]\n"
     ]
    }
   ],
   "source": [
    "def setmatrix(matrix):\n",
    "    m=len(matrix)\n",
    "    n=len(matrix[0])\n",
    "    row=set()\n",
    "    col=set()\n",
    "    for i in range(m):\n",
    "        for j in range(n):\n",
    "            if matrix[i][j]==0:\n",
    "                row.add(i)\n",
    "                col.add(j)\n",
    "    for i in row:\n",
    "        for j in range(n):\n",
    "            matrix[i][j]=0\n",
    "    for j in col:\n",
    "        for i in range(m):\n",
    "            matrix[i][j]=0\n",
    "    return matrix\n",
    "r=int(input())\n",
    "c=int(input())\n",
    "matrix=[]\n",
    "for i in range(r):\n",
    "    ro=[]\n",
    "    for j in range(c):\n",
    "        ro.append(int(input()))\n",
    "    matrix.append(ro)\n",
    "res=setmatrix(matrix)\n",
    "print(res)"
   ]
  },
  {
   "cell_type": "code",
   "execution_count": null,
   "id": "704bf422",
   "metadata": {},
   "outputs": [],
   "source": []
  }
 ],
 "metadata": {
  "kernelspec": {
   "display_name": "Python 3 (ipykernel)",
   "language": "python",
   "name": "python3"
  },
  "language_info": {
   "codemirror_mode": {
    "name": "ipython",
    "version": 3
   },
   "file_extension": ".py",
   "mimetype": "text/x-python",
   "name": "python",
   "nbconvert_exporter": "python",
   "pygments_lexer": "ipython3",
   "version": "3.9.7"
  }
 },
 "nbformat": 4,
 "nbformat_minor": 5
}
