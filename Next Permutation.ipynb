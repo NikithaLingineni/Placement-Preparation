{
 "cells": [
  {
   "cell_type": "code",
   "execution_count": 5,
   "id": "0239caec",
   "metadata": {},
   "outputs": [
    {
     "name": "stdout",
     "output_type": "stream",
     "text": [
      "1 3 2\n",
      "[2, 1, 3]\n"
     ]
    }
   ],
   "source": [
    "def Nextpermutation(nums):\n",
    "    n=len(nums)\n",
    "    ind=-1\n",
    "    for i in range(n-2,-1,-1):\n",
    "        if nums[i]<nums[i+1]:\n",
    "            ind=i\n",
    "            break\n",
    "    if ind==-1:\n",
    "        nums.reverse()\n",
    "        return\n",
    "    for i in range(n-1,ind-1,-1):\n",
    "        if nums[i]>nums[ind]:\n",
    "            nums[i],nums[ind]=nums[ind],nums[i]\n",
    "            break\n",
    "    reverse(nums,ind+1,n-1)\n",
    "def reverse(nums,start,end):\n",
    "    while start<end:\n",
    "        nums[start],nums[end]=nums[end],nums[start]\n",
    "        start+=1\n",
    "        end-=1\n",
    "nums=list(map(int,input().split()))\n",
    "Nextpermutation(nums)\n",
    "print(nums)"
   ]
  },
  {
   "cell_type": "code",
   "execution_count": null,
   "id": "1ad73fbe",
   "metadata": {},
   "outputs": [],
   "source": []
  }
 ],
 "metadata": {
  "kernelspec": {
   "display_name": "Python 3 (ipykernel)",
   "language": "python",
   "name": "python3"
  },
  "language_info": {
   "codemirror_mode": {
    "name": "ipython",
    "version": 3
   },
   "file_extension": ".py",
   "mimetype": "text/x-python",
   "name": "python",
   "nbconvert_exporter": "python",
   "pygments_lexer": "ipython3",
   "version": "3.9.7"
  }
 },
 "nbformat": 4,
 "nbformat_minor": 5
}
