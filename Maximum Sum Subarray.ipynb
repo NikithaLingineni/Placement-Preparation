{
 "cells": [
  {
   "cell_type": "code",
   "execution_count": null,
   "id": "806b71cf",
   "metadata": {},
   "outputs": [],
   "source": [
    "def maximum(nums):\n",
    "    n=len(nums)\n",
    "    max_start=nums[0]\n",
    "    max_end=0\n",
    "    for i in range(n):\n",
    "        max_end+=nums[i]\n",
    "        max_start=max(max_start,max_end)\n",
    "        if max_end<0:\n",
    "            max_end=0\n",
    "    return max_start\n",
    "nums=list(map(int,input().split()))\n",
    "res=maximum(nums)\n",
    "print(res)"
   ]
  },
  {
   "cell_type": "code",
   "execution_count": null,
   "id": "071ba924",
   "metadata": {},
   "outputs": [],
   "source": []
  }
 ],
 "metadata": {
  "kernelspec": {
   "display_name": "Python 3 (ipykernel)",
   "language": "python",
   "name": "python3"
  },
  "language_info": {
   "codemirror_mode": {
    "name": "ipython",
    "version": 3
   },
   "file_extension": ".py",
   "mimetype": "text/x-python",
   "name": "python",
   "nbconvert_exporter": "python",
   "pygments_lexer": "ipython3",
   "version": "3.9.7"
  }
 },
 "nbformat": 4,
 "nbformat_minor": 5
}
