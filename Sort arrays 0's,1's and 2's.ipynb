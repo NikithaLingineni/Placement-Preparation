{
 "cells": [
  {
   "cell_type": "code",
   "execution_count": 1,
   "id": "fd2ab64d",
   "metadata": {},
   "outputs": [
    {
     "name": "stdout",
     "output_type": "stream",
     "text": [
      "0 1 0 0 2 1 2\n",
      "[0, 0, 0, 1, 1, 2, 2]\n"
     ]
    }
   ],
   "source": [
    "def sorting(nums):\n",
    "    n=len(nums)\n",
    "    low=0\n",
    "    mid=0\n",
    "    high=n-1\n",
    "    for i in range(n):\n",
    "        if nums[mid]==0:\n",
    "            nums[low],nums[mid]=nums[mid],nums[low]\n",
    "            low+=1\n",
    "            mid+=1\n",
    "        elif nums[mid]==1:\n",
    "            mid+=1\n",
    "        elif nums[mid]==2:\n",
    "            nums[mid],nums[high]=nums[high],nums[mid]\n",
    "            high-=1\n",
    "nums=list(map(int,input().split()))\n",
    "sorting(nums)\n",
    "print(nums)"
   ]
  },
  {
   "cell_type": "code",
   "execution_count": null,
   "id": "4c1521b7",
   "metadata": {},
   "outputs": [],
   "source": []
  }
 ],
 "metadata": {
  "kernelspec": {
   "display_name": "Python 3 (ipykernel)",
   "language": "python",
   "name": "python3"
  },
  "language_info": {
   "codemirror_mode": {
    "name": "ipython",
    "version": 3
   },
   "file_extension": ".py",
   "mimetype": "text/x-python",
   "name": "python",
   "nbconvert_exporter": "python",
   "pygments_lexer": "ipython3",
   "version": "3.9.7"
  }
 },
 "nbformat": 4,
 "nbformat_minor": 5
}
