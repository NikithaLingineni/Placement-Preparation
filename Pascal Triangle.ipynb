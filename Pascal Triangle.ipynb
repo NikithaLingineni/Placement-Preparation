{
 "cells": [
  {
   "cell_type": "code",
   "execution_count": null,
   "id": "da818d92",
   "metadata": {},
   "outputs": [],
   "source": [
    "def Pascal(n):\n",
    "    triangle=[]\n",
    "    for i in range(n):\n",
    "        triangle.append(getrow(i))\n",
    "    return triangle\n",
    "def getrow(rowindex):\n",
    "    ans=1\n",
    "    res=[1]\n",
    "    for i in range(rowindex):\n",
    "        ans=ans*(rowindex-i)\n",
    "        ans=ans/(i+1)\n",
    "        res.append(int(ans))\n",
    "    return res\n",
    "n=int"
   ]
  }
 ],
 "metadata": {
  "kernelspec": {
   "display_name": "Python 3 (ipykernel)",
   "language": "python",
   "name": "python3"
  },
  "language_info": {
   "codemirror_mode": {
    "name": "ipython",
    "version": 3
   },
   "file_extension": ".py",
   "mimetype": "text/x-python",
   "name": "python",
   "nbconvert_exporter": "python",
   "pygments_lexer": "ipython3",
   "version": "3.9.7"
  }
 },
 "nbformat": 4,
 "nbformat_minor": 5
}
