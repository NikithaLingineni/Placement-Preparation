{
 "cells": [
  {
   "cell_type": "code",
   "execution_count": 1,
   "id": "3cf63352",
   "metadata": {},
   "outputs": [
    {
     "name": "stdout",
     "output_type": "stream",
     "text": [
      "3 1 2 5 3\n",
      "[3, 4]\n"
     ]
    }
   ],
   "source": [
    "def find(nums):\n",
    "    n=len(nums)\n",
    "    sn=n*(n+1)//2\n",
    "    s2n=(n*(n+1)*(2*n+1))//6\n",
    "    s=0\n",
    "    s2=0\n",
    "    for i in range(n):\n",
    "        s+=nums[i]\n",
    "        s2+=nums[i]*nums[i]\n",
    "    val1=s-sn\n",
    "    val2=s2-s2n\n",
    "    val2=val2/val1\n",
    "    x=(val1+val2)/2\n",
    "    y=x-val1\n",
    "    return [int(x),int(y)]\n",
    "nums=list(map(int,input().split()))\n",
    "res=find(nums)\n",
    "print(res)"
   ]
  },
  {
   "cell_type": "code",
   "execution_count": null,
   "id": "688be65a",
   "metadata": {},
   "outputs": [],
   "source": []
  }
 ],
 "metadata": {
  "kernelspec": {
   "display_name": "Python 3 (ipykernel)",
   "language": "python",
   "name": "python3"
  },
  "language_info": {
   "codemirror_mode": {
    "name": "ipython",
    "version": 3
   },
   "file_extension": ".py",
   "mimetype": "text/x-python",
   "name": "python",
   "nbconvert_exporter": "python",
   "pygments_lexer": "ipython3",
   "version": "3.9.7"
  }
 },
 "nbformat": 4,
 "nbformat_minor": 5
}
